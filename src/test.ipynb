{
 "cells": [
  {
   "cell_type": "code",
   "execution_count": 1,
   "metadata": {},
   "outputs": [],
   "source": [
    "import re"
   ]
  },
  {
   "cell_type": "code",
   "execution_count": 8,
   "metadata": {},
   "outputs": [],
   "source": [
    "response = \"<basic_information>\\nI am a 21-year-old female with a family history of overweight. I do not have the habit of frequent intake of high-caloric food, but I sometimes have vegetables in my meals. I typically have 3 meals per day and occasionally snack between meals. I do not smoke and drink between 1 and 2 liters of water daily. I do not monitor my calorie intake and currently do not exercise. I spend 1 hour daily using technological devices and do not consume alcohol. I usually use Public_Transportation for commuting.\\n</basic_information>\\n\\n<change>\\n'FAVC': ['yes', 'no']\\n</change>\""
   ]
  },
  {
   "cell_type": "code",
   "execution_count": 14,
   "metadata": {},
   "outputs": [],
   "source": [
    "response = response.replace('\\n','')\n",
    "start = \"<basic_information>\"\n",
    "end = \"</basic_information>\"\n",
    "# start = \"<change>\"\n",
    "# end = \"</change>\"\n",
    "res = re.search(f\"{re.escape(start)}(.*?){re.escape(end)}\", response)"
   ]
  },
  {
   "cell_type": "code",
   "execution_count": 15,
   "metadata": {},
   "outputs": [
    {
     "name": "stdout",
     "output_type": "stream",
     "text": [
      "I am a 21-year-old female with a family history of overweight. I do not have the habit of frequent intake of high-caloric food, but I sometimes have vegetables in my meals. I typically have 3 meals per day and occasionally snack between meals. I do not smoke and drink between 1 and 2 liters of water daily. I do not monitor my calorie intake and currently do not exercise. I spend 1 hour daily using technological devices and do not consume alcohol. I usually use Public_Transportation for commuting.\n"
     ]
    }
   ],
   "source": [
    "print(res.group(1))"
   ]
  }
 ],
 "metadata": {
  "kernelspec": {
   "display_name": "6335",
   "language": "python",
   "name": "python3"
  },
  "language_info": {
   "codemirror_mode": {
    "name": "ipython",
    "version": 3
   },
   "file_extension": ".py",
   "mimetype": "text/x-python",
   "name": "python",
   "nbconvert_exporter": "python",
   "pygments_lexer": "ipython3",
   "version": "3.12.5"
  }
 },
 "nbformat": 4,
 "nbformat_minor": 2
}
